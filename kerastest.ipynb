{
    "cells": [
        {
            "metadata": {},
            "cell_type": "code",
            "source": "import keras",
            "execution_count": 6,
            "outputs": []
        },
        {
            "metadata": {},
            "cell_type": "code",
            "source": "import pandas as pd\nimport numpy as np",
            "execution_count": 7,
            "outputs": []
        },
        {
            "metadata": {},
            "cell_type": "code",
            "source": "df = pd.read_csv(\"https://s3-api.us-geo.objectstorage.softlayer.net/cf-courses-data/CognitiveClass/DL0101EN/labs/data/concrete_data.csv \")",
            "execution_count": 8,
            "outputs": []
        },
        {
            "metadata": {},
            "cell_type": "code",
            "source": "df.head()",
            "execution_count": 9,
            "outputs": [
                {
                    "output_type": "execute_result",
                    "execution_count": 9,
                    "data": {
                        "text/plain": "   Cement  Blast Furnace Slag  Fly Ash  Water  Superplasticizer  \\\n0   540.0                 0.0      0.0  162.0               2.5   \n1   540.0                 0.0      0.0  162.0               2.5   \n2   332.5               142.5      0.0  228.0               0.0   \n3   332.5               142.5      0.0  228.0               0.0   \n4   198.6               132.4      0.0  192.0               0.0   \n\n   Coarse Aggregate  Fine Aggregate  Age  Strength  \n0            1040.0           676.0   28     79.99  \n1            1055.0           676.0   28     61.89  \n2             932.0           594.0  270     40.27  \n3             932.0           594.0  365     41.05  \n4             978.4           825.5  360     44.30  ",
                        "text/html": "<div>\n<style scoped>\n    .dataframe tbody tr th:only-of-type {\n        vertical-align: middle;\n    }\n\n    .dataframe tbody tr th {\n        vertical-align: top;\n    }\n\n    .dataframe thead th {\n        text-align: right;\n    }\n</style>\n<table border=\"1\" class=\"dataframe\">\n  <thead>\n    <tr style=\"text-align: right;\">\n      <th></th>\n      <th>Cement</th>\n      <th>Blast Furnace Slag</th>\n      <th>Fly Ash</th>\n      <th>Water</th>\n      <th>Superplasticizer</th>\n      <th>Coarse Aggregate</th>\n      <th>Fine Aggregate</th>\n      <th>Age</th>\n      <th>Strength</th>\n    </tr>\n  </thead>\n  <tbody>\n    <tr>\n      <th>0</th>\n      <td>540.0</td>\n      <td>0.0</td>\n      <td>0.0</td>\n      <td>162.0</td>\n      <td>2.5</td>\n      <td>1040.0</td>\n      <td>676.0</td>\n      <td>28</td>\n      <td>79.99</td>\n    </tr>\n    <tr>\n      <th>1</th>\n      <td>540.0</td>\n      <td>0.0</td>\n      <td>0.0</td>\n      <td>162.0</td>\n      <td>2.5</td>\n      <td>1055.0</td>\n      <td>676.0</td>\n      <td>28</td>\n      <td>61.89</td>\n    </tr>\n    <tr>\n      <th>2</th>\n      <td>332.5</td>\n      <td>142.5</td>\n      <td>0.0</td>\n      <td>228.0</td>\n      <td>0.0</td>\n      <td>932.0</td>\n      <td>594.0</td>\n      <td>270</td>\n      <td>40.27</td>\n    </tr>\n    <tr>\n      <th>3</th>\n      <td>332.5</td>\n      <td>142.5</td>\n      <td>0.0</td>\n      <td>228.0</td>\n      <td>0.0</td>\n      <td>932.0</td>\n      <td>594.0</td>\n      <td>365</td>\n      <td>41.05</td>\n    </tr>\n    <tr>\n      <th>4</th>\n      <td>198.6</td>\n      <td>132.4</td>\n      <td>0.0</td>\n      <td>192.0</td>\n      <td>0.0</td>\n      <td>978.4</td>\n      <td>825.5</td>\n      <td>360</td>\n      <td>44.30</td>\n    </tr>\n  </tbody>\n</table>\n</div>"
                    },
                    "metadata": {}
                }
            ]
        },
        {
            "metadata": {},
            "cell_type": "code",
            "source": "df.shape",
            "execution_count": 10,
            "outputs": [
                {
                    "output_type": "execute_result",
                    "execution_count": 10,
                    "data": {
                        "text/plain": "(1030, 9)"
                    },
                    "metadata": {}
                }
            ]
        },
        {
            "metadata": {},
            "cell_type": "code",
            "source": "df.describe()",
            "execution_count": 11,
            "outputs": [
                {
                    "output_type": "execute_result",
                    "execution_count": 11,
                    "data": {
                        "text/plain": "            Cement  Blast Furnace Slag      Fly Ash        Water  \\\ncount  1030.000000         1030.000000  1030.000000  1030.000000   \nmean    281.167864           73.895825    54.188350   181.567282   \nstd     104.506364           86.279342    63.997004    21.354219   \nmin     102.000000            0.000000     0.000000   121.800000   \n25%     192.375000            0.000000     0.000000   164.900000   \n50%     272.900000           22.000000     0.000000   185.000000   \n75%     350.000000          142.950000   118.300000   192.000000   \nmax     540.000000          359.400000   200.100000   247.000000   \n\n       Superplasticizer  Coarse Aggregate  Fine Aggregate          Age  \\\ncount       1030.000000       1030.000000     1030.000000  1030.000000   \nmean           6.204660        972.918932      773.580485    45.662136   \nstd            5.973841         77.753954       80.175980    63.169912   \nmin            0.000000        801.000000      594.000000     1.000000   \n25%            0.000000        932.000000      730.950000     7.000000   \n50%            6.400000        968.000000      779.500000    28.000000   \n75%           10.200000       1029.400000      824.000000    56.000000   \nmax           32.200000       1145.000000      992.600000   365.000000   \n\n          Strength  \ncount  1030.000000  \nmean     35.817961  \nstd      16.705742  \nmin       2.330000  \n25%      23.710000  \n50%      34.445000  \n75%      46.135000  \nmax      82.600000  ",
                        "text/html": "<div>\n<style scoped>\n    .dataframe tbody tr th:only-of-type {\n        vertical-align: middle;\n    }\n\n    .dataframe tbody tr th {\n        vertical-align: top;\n    }\n\n    .dataframe thead th {\n        text-align: right;\n    }\n</style>\n<table border=\"1\" class=\"dataframe\">\n  <thead>\n    <tr style=\"text-align: right;\">\n      <th></th>\n      <th>Cement</th>\n      <th>Blast Furnace Slag</th>\n      <th>Fly Ash</th>\n      <th>Water</th>\n      <th>Superplasticizer</th>\n      <th>Coarse Aggregate</th>\n      <th>Fine Aggregate</th>\n      <th>Age</th>\n      <th>Strength</th>\n    </tr>\n  </thead>\n  <tbody>\n    <tr>\n      <th>count</th>\n      <td>1030.000000</td>\n      <td>1030.000000</td>\n      <td>1030.000000</td>\n      <td>1030.000000</td>\n      <td>1030.000000</td>\n      <td>1030.000000</td>\n      <td>1030.000000</td>\n      <td>1030.000000</td>\n      <td>1030.000000</td>\n    </tr>\n    <tr>\n      <th>mean</th>\n      <td>281.167864</td>\n      <td>73.895825</td>\n      <td>54.188350</td>\n      <td>181.567282</td>\n      <td>6.204660</td>\n      <td>972.918932</td>\n      <td>773.580485</td>\n      <td>45.662136</td>\n      <td>35.817961</td>\n    </tr>\n    <tr>\n      <th>std</th>\n      <td>104.506364</td>\n      <td>86.279342</td>\n      <td>63.997004</td>\n      <td>21.354219</td>\n      <td>5.973841</td>\n      <td>77.753954</td>\n      <td>80.175980</td>\n      <td>63.169912</td>\n      <td>16.705742</td>\n    </tr>\n    <tr>\n      <th>min</th>\n      <td>102.000000</td>\n      <td>0.000000</td>\n      <td>0.000000</td>\n      <td>121.800000</td>\n      <td>0.000000</td>\n      <td>801.000000</td>\n      <td>594.000000</td>\n      <td>1.000000</td>\n      <td>2.330000</td>\n    </tr>\n    <tr>\n      <th>25%</th>\n      <td>192.375000</td>\n      <td>0.000000</td>\n      <td>0.000000</td>\n      <td>164.900000</td>\n      <td>0.000000</td>\n      <td>932.000000</td>\n      <td>730.950000</td>\n      <td>7.000000</td>\n      <td>23.710000</td>\n    </tr>\n    <tr>\n      <th>50%</th>\n      <td>272.900000</td>\n      <td>22.000000</td>\n      <td>0.000000</td>\n      <td>185.000000</td>\n      <td>6.400000</td>\n      <td>968.000000</td>\n      <td>779.500000</td>\n      <td>28.000000</td>\n      <td>34.445000</td>\n    </tr>\n    <tr>\n      <th>75%</th>\n      <td>350.000000</td>\n      <td>142.950000</td>\n      <td>118.300000</td>\n      <td>192.000000</td>\n      <td>10.200000</td>\n      <td>1029.400000</td>\n      <td>824.000000</td>\n      <td>56.000000</td>\n      <td>46.135000</td>\n    </tr>\n    <tr>\n      <th>max</th>\n      <td>540.000000</td>\n      <td>359.400000</td>\n      <td>200.100000</td>\n      <td>247.000000</td>\n      <td>32.200000</td>\n      <td>1145.000000</td>\n      <td>992.600000</td>\n      <td>365.000000</td>\n      <td>82.600000</td>\n    </tr>\n  </tbody>\n</table>\n</div>"
                    },
                    "metadata": {}
                }
            ]
        },
        {
            "metadata": {},
            "cell_type": "code",
            "source": "df.isnull().sum()",
            "execution_count": 12,
            "outputs": [
                {
                    "output_type": "execute_result",
                    "execution_count": 12,
                    "data": {
                        "text/plain": "Cement                0\nBlast Furnace Slag    0\nFly Ash               0\nWater                 0\nSuperplasticizer      0\nCoarse Aggregate      0\nFine Aggregate        0\nAge                   0\nStrength              0\ndtype: int64"
                    },
                    "metadata": {}
                }
            ]
        },
        {
            "metadata": {},
            "cell_type": "code",
            "source": "df_columns = df.columns\npredictors = df[df_columns[df_columns != 'Strength']]\ntarget = df['Strength']",
            "execution_count": 13,
            "outputs": []
        },
        {
            "metadata": {},
            "cell_type": "code",
            "source": "predictors.head()",
            "execution_count": 14,
            "outputs": [
                {
                    "output_type": "execute_result",
                    "execution_count": 14,
                    "data": {
                        "text/plain": "   Cement  Blast Furnace Slag  Fly Ash  Water  Superplasticizer  \\\n0   540.0                 0.0      0.0  162.0               2.5   \n1   540.0                 0.0      0.0  162.0               2.5   \n2   332.5               142.5      0.0  228.0               0.0   \n3   332.5               142.5      0.0  228.0               0.0   \n4   198.6               132.4      0.0  192.0               0.0   \n\n   Coarse Aggregate  Fine Aggregate  Age  \n0            1040.0           676.0   28  \n1            1055.0           676.0   28  \n2             932.0           594.0  270  \n3             932.0           594.0  365  \n4             978.4           825.5  360  ",
                        "text/html": "<div>\n<style scoped>\n    .dataframe tbody tr th:only-of-type {\n        vertical-align: middle;\n    }\n\n    .dataframe tbody tr th {\n        vertical-align: top;\n    }\n\n    .dataframe thead th {\n        text-align: right;\n    }\n</style>\n<table border=\"1\" class=\"dataframe\">\n  <thead>\n    <tr style=\"text-align: right;\">\n      <th></th>\n      <th>Cement</th>\n      <th>Blast Furnace Slag</th>\n      <th>Fly Ash</th>\n      <th>Water</th>\n      <th>Superplasticizer</th>\n      <th>Coarse Aggregate</th>\n      <th>Fine Aggregate</th>\n      <th>Age</th>\n    </tr>\n  </thead>\n  <tbody>\n    <tr>\n      <th>0</th>\n      <td>540.0</td>\n      <td>0.0</td>\n      <td>0.0</td>\n      <td>162.0</td>\n      <td>2.5</td>\n      <td>1040.0</td>\n      <td>676.0</td>\n      <td>28</td>\n    </tr>\n    <tr>\n      <th>1</th>\n      <td>540.0</td>\n      <td>0.0</td>\n      <td>0.0</td>\n      <td>162.0</td>\n      <td>2.5</td>\n      <td>1055.0</td>\n      <td>676.0</td>\n      <td>28</td>\n    </tr>\n    <tr>\n      <th>2</th>\n      <td>332.5</td>\n      <td>142.5</td>\n      <td>0.0</td>\n      <td>228.0</td>\n      <td>0.0</td>\n      <td>932.0</td>\n      <td>594.0</td>\n      <td>270</td>\n    </tr>\n    <tr>\n      <th>3</th>\n      <td>332.5</td>\n      <td>142.5</td>\n      <td>0.0</td>\n      <td>228.0</td>\n      <td>0.0</td>\n      <td>932.0</td>\n      <td>594.0</td>\n      <td>365</td>\n    </tr>\n    <tr>\n      <th>4</th>\n      <td>198.6</td>\n      <td>132.4</td>\n      <td>0.0</td>\n      <td>192.0</td>\n      <td>0.0</td>\n      <td>978.4</td>\n      <td>825.5</td>\n      <td>360</td>\n    </tr>\n  </tbody>\n</table>\n</div>"
                    },
                    "metadata": {}
                }
            ]
        },
        {
            "metadata": {},
            "cell_type": "code",
            "source": "target.head()",
            "execution_count": 15,
            "outputs": [
                {
                    "output_type": "execute_result",
                    "execution_count": 15,
                    "data": {
                        "text/plain": "0    79.99\n1    61.89\n2    40.27\n3    41.05\n4    44.30\nName: Strength, dtype: float64"
                    },
                    "metadata": {}
                }
            ]
        },
        {
            "metadata": {},
            "cell_type": "code",
            "source": "predictors_norm = (predictors - predictors.mean())/predictors.std()\npredictors_norm.head()",
            "execution_count": 16,
            "outputs": [
                {
                    "output_type": "execute_result",
                    "execution_count": 16,
                    "data": {
                        "text/plain": "     Cement  Blast Furnace Slag   Fly Ash     Water  Superplasticizer  \\\n0  2.476712           -0.856472 -0.846733 -0.916319         -0.620147   \n1  2.476712           -0.856472 -0.846733 -0.916319         -0.620147   \n2  0.491187            0.795140 -0.846733  2.174405         -1.038638   \n3  0.491187            0.795140 -0.846733  2.174405         -1.038638   \n4 -0.790075            0.678079 -0.846733  0.488555         -1.038638   \n\n   Coarse Aggregate  Fine Aggregate       Age  \n0          0.862735       -1.217079 -0.279597  \n1          1.055651       -1.217079 -0.279597  \n2         -0.526262       -2.239829  3.551340  \n3         -0.526262       -2.239829  5.055221  \n4          0.070492        0.647569  4.976069  ",
                        "text/html": "<div>\n<style scoped>\n    .dataframe tbody tr th:only-of-type {\n        vertical-align: middle;\n    }\n\n    .dataframe tbody tr th {\n        vertical-align: top;\n    }\n\n    .dataframe thead th {\n        text-align: right;\n    }\n</style>\n<table border=\"1\" class=\"dataframe\">\n  <thead>\n    <tr style=\"text-align: right;\">\n      <th></th>\n      <th>Cement</th>\n      <th>Blast Furnace Slag</th>\n      <th>Fly Ash</th>\n      <th>Water</th>\n      <th>Superplasticizer</th>\n      <th>Coarse Aggregate</th>\n      <th>Fine Aggregate</th>\n      <th>Age</th>\n    </tr>\n  </thead>\n  <tbody>\n    <tr>\n      <th>0</th>\n      <td>2.476712</td>\n      <td>-0.856472</td>\n      <td>-0.846733</td>\n      <td>-0.916319</td>\n      <td>-0.620147</td>\n      <td>0.862735</td>\n      <td>-1.217079</td>\n      <td>-0.279597</td>\n    </tr>\n    <tr>\n      <th>1</th>\n      <td>2.476712</td>\n      <td>-0.856472</td>\n      <td>-0.846733</td>\n      <td>-0.916319</td>\n      <td>-0.620147</td>\n      <td>1.055651</td>\n      <td>-1.217079</td>\n      <td>-0.279597</td>\n    </tr>\n    <tr>\n      <th>2</th>\n      <td>0.491187</td>\n      <td>0.795140</td>\n      <td>-0.846733</td>\n      <td>2.174405</td>\n      <td>-1.038638</td>\n      <td>-0.526262</td>\n      <td>-2.239829</td>\n      <td>3.551340</td>\n    </tr>\n    <tr>\n      <th>3</th>\n      <td>0.491187</td>\n      <td>0.795140</td>\n      <td>-0.846733</td>\n      <td>2.174405</td>\n      <td>-1.038638</td>\n      <td>-0.526262</td>\n      <td>-2.239829</td>\n      <td>5.055221</td>\n    </tr>\n    <tr>\n      <th>4</th>\n      <td>-0.790075</td>\n      <td>0.678079</td>\n      <td>-0.846733</td>\n      <td>0.488555</td>\n      <td>-1.038638</td>\n      <td>0.070492</td>\n      <td>0.647569</td>\n      <td>4.976069</td>\n    </tr>\n  </tbody>\n</table>\n</div>"
                    },
                    "metadata": {}
                }
            ]
        },
        {
            "metadata": {},
            "cell_type": "code",
            "source": "ncols = predictors_norm.shape[1]\nncols",
            "execution_count": 17,
            "outputs": [
                {
                    "output_type": "execute_result",
                    "execution_count": 17,
                    "data": {
                        "text/plain": "8"
                    },
                    "metadata": {}
                }
            ]
        },
        {
            "metadata": {},
            "cell_type": "code",
            "source": "from keras.models import Sequential\nfrom keras.layers import Dense",
            "execution_count": 19,
            "outputs": []
        },
        {
            "metadata": {},
            "cell_type": "code",
            "source": "def regression_model():\n    model = Sequential()\n    model.add(Dense(50, activation='relu', input_shape=(ncols,))) \n    model.add(Dense(50, activation='relu'))\n    model.add(Dense(1))\n    \n    model.compile(optimizer='adam', loss='mean_squared_error')\n    return model\n    ",
            "execution_count": 20,
            "outputs": []
        },
        {
            "metadata": {
                "scrolled": true
            },
            "cell_type": "code",
            "source": "model = regression_model()",
            "execution_count": 21,
            "outputs": [
                {
                    "output_type": "stream",
                    "text": "WARNING:tensorflow:From /opt/conda/envs/Python36/lib/python3.6/site-packages/tensorflow/python/framework/op_def_library.py:263: colocate_with (from tensorflow.python.framework.ops) is deprecated and will be removed in a future version.\nInstructions for updating:\nColocations handled automatically by placer.\n",
                    "name": "stdout"
                }
            ]
        },
        {
            "metadata": {
                "scrolled": false
            },
            "cell_type": "code",
            "source": "model.fit(predictors_norm, target, validation_split=0.3, epochs=100, verbose=2)",
            "execution_count": 34,
            "outputs": [
                {
                    "output_type": "stream",
                    "text": "Train on 721 samples, validate on 309 samples\nEpoch 1/100\n - 4s - loss: 35.0980 - val_loss: 131.7270\nEpoch 2/100\n - 1s - loss: 34.6259 - val_loss: 144.3357\nEpoch 3/100\n - 0s - loss: 35.0582 - val_loss: 142.3710\nEpoch 4/100\n - 0s - loss: 34.2403 - val_loss: 139.3932\nEpoch 5/100\n - 0s - loss: 33.7629 - val_loss: 151.5161\nEpoch 6/100\n - 0s - loss: 33.6488 - val_loss: 136.0599\nEpoch 7/100\n - 0s - loss: 33.5582 - val_loss: 137.2612\nEpoch 8/100\n - 0s - loss: 33.0187 - val_loss: 150.9126\nEpoch 9/100\n - 0s - loss: 33.7251 - val_loss: 136.1156\nEpoch 10/100\n - 1s - loss: 32.4936 - val_loss: 145.1825\nEpoch 11/100\n - 11s - loss: 32.3553 - val_loss: 141.3259\nEpoch 12/100\n - 2s - loss: 32.2989 - val_loss: 142.2298\nEpoch 13/100\n - 1s - loss: 32.2424 - val_loss: 144.1312\nEpoch 14/100\n - 0s - loss: 31.9342 - val_loss: 149.9214\nEpoch 15/100\n - 0s - loss: 31.4494 - val_loss: 141.5563\nEpoch 16/100\n - 0s - loss: 31.4213 - val_loss: 146.7255\nEpoch 17/100\n - 1s - loss: 31.4144 - val_loss: 147.3723\nEpoch 18/100\n - 2s - loss: 30.7726 - val_loss: 153.8125\nEpoch 19/100\n - 1s - loss: 30.7319 - val_loss: 147.8135\nEpoch 20/100\n - 0s - loss: 30.6211 - val_loss: 143.3980\nEpoch 21/100\n - 0s - loss: 30.7594 - val_loss: 148.0772\nEpoch 22/100\n - 0s - loss: 29.9905 - val_loss: 150.7529\nEpoch 23/100\n - 0s - loss: 29.9190 - val_loss: 146.6527\nEpoch 24/100\n - 12s - loss: 29.6429 - val_loss: 156.2331\nEpoch 25/100\n - 2s - loss: 29.3400 - val_loss: 152.3121\nEpoch 26/100\n - 1s - loss: 29.6260 - val_loss: 154.4020\nEpoch 27/100\n - 0s - loss: 29.1566 - val_loss: 149.4141\nEpoch 28/100\n - 0s - loss: 29.2599 - val_loss: 154.7649\nEpoch 29/100\n - 0s - loss: 29.6918 - val_loss: 150.0299\nEpoch 30/100\n - 0s - loss: 28.7195 - val_loss: 157.4888\nEpoch 31/100\n - 0s - loss: 28.3742 - val_loss: 159.3258\nEpoch 32/100\n - 0s - loss: 28.3796 - val_loss: 163.8710\nEpoch 33/100\n - 0s - loss: 28.1346 - val_loss: 161.4963\nEpoch 34/100\n - 0s - loss: 27.9031 - val_loss: 148.1870\nEpoch 35/100\n - 0s - loss: 27.9923 - val_loss: 154.8968\nEpoch 36/100\n - 0s - loss: 28.2014 - val_loss: 169.8688\nEpoch 37/100\n - 9s - loss: 27.6030 - val_loss: 154.8254\nEpoch 38/100\n - 6s - loss: 27.6307 - val_loss: 153.6400\nEpoch 39/100\n - 1s - loss: 26.8308 - val_loss: 167.5989\nEpoch 40/100\n - 0s - loss: 27.1739 - val_loss: 169.6078\nEpoch 41/100\n - 0s - loss: 26.7276 - val_loss: 163.3527\nEpoch 42/100\n - 0s - loss: 26.6587 - val_loss: 161.0894\nEpoch 43/100\n - 0s - loss: 26.8629 - val_loss: 175.4626\nEpoch 44/100\n - 0s - loss: 26.3030 - val_loss: 154.0118\nEpoch 45/100\n - 2s - loss: 26.3755 - val_loss: 166.2731\nEpoch 46/100\n - 10s - loss: 25.9924 - val_loss: 161.6243\nEpoch 47/100\n - 0s - loss: 25.8313 - val_loss: 156.2915\nEpoch 48/100\n - 0s - loss: 25.8093 - val_loss: 168.0692\nEpoch 49/100\n - 0s - loss: 25.6219 - val_loss: 151.6633\nEpoch 50/100\n - 5s - loss: 25.5258 - val_loss: 169.2748\nEpoch 51/100\n - 1s - loss: 25.4860 - val_loss: 166.6286\nEpoch 52/100\n - 0s - loss: 25.2404 - val_loss: 159.6762\nEpoch 53/100\n - 0s - loss: 25.4452 - val_loss: 161.7829\nEpoch 54/100\n - 1s - loss: 25.0834 - val_loss: 166.7855\nEpoch 55/100\n - 0s - loss: 25.0688 - val_loss: 159.9080\nEpoch 56/100\n - 0s - loss: 24.7975 - val_loss: 164.9620\nEpoch 57/100\n - 0s - loss: 24.8324 - val_loss: 161.9267\nEpoch 58/100\n - 0s - loss: 24.8793 - val_loss: 169.0070\nEpoch 59/100\n - 10s - loss: 24.2821 - val_loss: 170.7341\nEpoch 60/100\n - 2s - loss: 24.1922 - val_loss: 150.3328\nEpoch 61/100\n - 1s - loss: 24.7812 - val_loss: 156.9807\nEpoch 62/100\n - 0s - loss: 24.3704 - val_loss: 151.2091\nEpoch 63/100\n - 0s - loss: 23.9629 - val_loss: 172.4080\nEpoch 64/100\n - 0s - loss: 23.9753 - val_loss: 177.4154\nEpoch 65/100\n - 0s - loss: 23.8158 - val_loss: 174.6989\nEpoch 66/100\n - 1s - loss: 23.3681 - val_loss: 164.3727\nEpoch 67/100\n - 1s - loss: 23.6262 - val_loss: 178.3090\nEpoch 68/100\n - 0s - loss: 23.7540 - val_loss: 171.2612\nEpoch 69/100\n - 0s - loss: 23.3152 - val_loss: 171.8332\nEpoch 70/100\n - 1s - loss: 23.3748 - val_loss: 158.8246\nEpoch 71/100\n - 1s - loss: 22.9479 - val_loss: 178.3938\nEpoch 72/100\n - 10s - loss: 22.8445 - val_loss: 157.6527\nEpoch 73/100\n - 1s - loss: 22.6463 - val_loss: 167.0893\nEpoch 74/100\n - 5s - loss: 22.9724 - val_loss: 167.6836\nEpoch 75/100\n - 2s - loss: 22.9617 - val_loss: 158.9542\nEpoch 76/100\n - 9s - loss: 22.7562 - val_loss: 171.0783\nEpoch 77/100\n - 1s - loss: 23.5255 - val_loss: 181.7285\nEpoch 78/100\n - 0s - loss: 22.8746 - val_loss: 183.2051\nEpoch 79/100\n - 0s - loss: 22.3898 - val_loss: 170.4301\nEpoch 80/100\n - 0s - loss: 22.1521 - val_loss: 166.0751\nEpoch 81/100\n - 0s - loss: 21.8665 - val_loss: 157.0588\nEpoch 82/100\n - 0s - loss: 22.4766 - val_loss: 161.6142\nEpoch 83/100\n - 0s - loss: 22.7589 - val_loss: 152.7676\nEpoch 84/100\n - 1s - loss: 22.2837 - val_loss: 162.0985\nEpoch 85/100\n - 5s - loss: 22.6919 - val_loss: 166.0827\nEpoch 86/100\n - 10s - loss: 22.2777 - val_loss: 173.7850\nEpoch 87/100\n - 5s - loss: 21.5496 - val_loss: 170.9216\nEpoch 88/100\n - 2s - loss: 21.2528 - val_loss: 166.2923\nEpoch 89/100\n - 2s - loss: 21.6245 - val_loss: 166.7503\nEpoch 90/100\n - 13s - loss: 21.4173 - val_loss: 163.6704\nEpoch 91/100\n - 2s - loss: 21.2666 - val_loss: 167.7364\nEpoch 92/100\n - 10s - loss: 20.9009 - val_loss: 165.0309\nEpoch 93/100\n - 1s - loss: 20.7425 - val_loss: 173.8239\nEpoch 94/100\n - 0s - loss: 21.0135 - val_loss: 168.2590\nEpoch 95/100\n - 0s - loss: 20.7040 - val_loss: 162.8479\nEpoch 96/100\n - 1s - loss: 20.3830 - val_loss: 173.4486\nEpoch 97/100\n - 2s - loss: 20.3117 - val_loss: 162.0817\nEpoch 98/100\n - 2s - loss: 20.1728 - val_loss: 171.9084\nEpoch 99/100\n - 2s - loss: 19.9521 - val_loss: 171.4210\nEpoch 100/100\n - 9s - loss: 20.2575 - val_loss: 173.7175\n",
                    "name": "stdout"
                },
                {
                    "output_type": "execute_result",
                    "execution_count": 34,
                    "data": {
                        "text/plain": "<keras.callbacks.History at 0x7fafdec43860>"
                    },
                    "metadata": {}
                }
            ]
        },
        {
            "metadata": {},
            "cell_type": "code",
            "source": "model.save(\"regression_model.h5\")\nfrom keras.models import load_model\nmodel1 = load_model('regression_model.h5')",
            "execution_count": 35,
            "outputs": []
        },
        {
            "metadata": {},
            "cell_type": "code",
            "source": "model.fit(predictors_norm, target, validation_split=0.7, epochs=100, verbose=2)",
            "execution_count": 22,
            "outputs": [
                {
                    "output_type": "stream",
                    "text": "WARNING:tensorflow:From /opt/conda/envs/Python36/lib/python3.6/site-packages/tensorflow/python/ops/math_ops.py:3066: to_int32 (from tensorflow.python.ops.math_ops) is deprecated and will be removed in a future version.\nInstructions for updating:\nUse tf.cast instead.\nTrain on 309 samples, validate on 721 samples\nEpoch 1/100\n - 4s - loss: 2127.8994 - val_loss: 1308.0167\nEpoch 2/100\n - 0s - loss: 2080.2358 - val_loss: 1279.4679\nEpoch 3/100\n - 1s - loss: 2027.9729 - val_loss: 1247.7422\nEpoch 4/100\n - 1s - loss: 1965.6519 - val_loss: 1209.2421\nEpoch 5/100\n - 6s - loss: 1887.7032 - val_loss: 1161.1132\nEpoch 6/100\n - 5s - loss: 1786.6381 - val_loss: 1101.0740\nEpoch 7/100\n - 1s - loss: 1659.4990 - val_loss: 1028.7270\nEpoch 8/100\n - 0s - loss: 1504.8237 - val_loss: 942.9932\nEpoch 9/100\n - 0s - loss: 1320.9060 - val_loss: 846.0005\nEpoch 10/100\n - 0s - loss: 1116.3119 - val_loss: 738.9604\nEpoch 11/100\n - 0s - loss: 905.5221 - val_loss: 628.7877\nEpoch 12/100\n - 0s - loss: 701.0227 - val_loss: 523.0009\nEpoch 13/100\n - 0s - loss: 533.9659 - val_loss: 430.0712\nEpoch 14/100\n - 0s - loss: 410.0092 - val_loss: 357.6945\nEpoch 15/100\n - 3s - loss: 338.8502 - val_loss: 308.5722\nEpoch 16/100\n - 1s - loss: 304.7697 - val_loss: 277.1553\nEpoch 17/100\n - 6s - loss: 284.4844 - val_loss: 261.3580\nEpoch 18/100\n - 5s - loss: 268.9366 - val_loss: 254.3317\nEpoch 19/100\n - 1s - loss: 256.3801 - val_loss: 249.8730\nEpoch 20/100\n - 2s - loss: 245.2022 - val_loss: 245.3340\nEpoch 21/100\n - 2s - loss: 236.8434 - val_loss: 242.5943\nEpoch 22/100\n - 1s - loss: 228.6003 - val_loss: 238.0415\nEpoch 23/100\n - 1s - loss: 221.5498 - val_loss: 235.7239\nEpoch 24/100\n - 10s - loss: 215.8621 - val_loss: 233.4022\nEpoch 25/100\n - 2s - loss: 210.9402 - val_loss: 234.0188\nEpoch 26/100\n - 2s - loss: 204.9043 - val_loss: 230.8304\nEpoch 27/100\n - 4s - loss: 200.1450 - val_loss: 228.0547\nEpoch 28/100\n - 5s - loss: 196.2198 - val_loss: 225.3178\nEpoch 29/100\n - 8s - loss: 192.2520 - val_loss: 223.3933\nEpoch 30/100\n - 1s - loss: 189.0928 - val_loss: 223.8753\nEpoch 31/100\n - 2s - loss: 185.4404 - val_loss: 223.3423\nEpoch 32/100\n - 2s - loss: 182.5261 - val_loss: 223.1938\nEpoch 33/100\n - 6s - loss: 179.5791 - val_loss: 223.2700\nEpoch 34/100\n - 4s - loss: 177.2480 - val_loss: 223.4598\nEpoch 35/100\n - 0s - loss: 174.7061 - val_loss: 223.3746\nEpoch 36/100\n - 0s - loss: 172.5193 - val_loss: 223.2375\nEpoch 37/100\n - 0s - loss: 170.5722 - val_loss: 222.3531\nEpoch 38/100\n - 4s - loss: 169.1744 - val_loss: 220.3848\nEpoch 39/100\n - 1s - loss: 166.6793 - val_loss: 221.8622\nEpoch 40/100\n - 2s - loss: 165.0717 - val_loss: 224.0047\nEpoch 41/100\n - 9s - loss: 163.4610 - val_loss: 223.4852\nEpoch 42/100\n - 4s - loss: 161.5721 - val_loss: 224.2812\nEpoch 43/100\n - 1s - loss: 160.0465 - val_loss: 224.4952\nEpoch 44/100\n - 2s - loss: 158.6538 - val_loss: 225.6074\nEpoch 45/100\n - 2s - loss: 157.2974 - val_loss: 226.0341\nEpoch 46/100\n - 6s - loss: 156.3011 - val_loss: 226.8525\nEpoch 47/100\n - 1s - loss: 155.2357 - val_loss: 227.3540\nEpoch 48/100\n - 1s - loss: 153.7840 - val_loss: 227.2098\nEpoch 49/100\n - 1s - loss: 152.4655 - val_loss: 227.9221\nEpoch 50/100\n - 1s - loss: 151.4171 - val_loss: 229.0646\nEpoch 51/100\n - 2s - loss: 150.4346 - val_loss: 230.2494\nEpoch 52/100\n - 1s - loss: 149.6937 - val_loss: 230.1500\nEpoch 53/100\n - 2s - loss: 148.9634 - val_loss: 231.7891\nEpoch 54/100\n - 10s - loss: 147.7878 - val_loss: 231.7168\nEpoch 55/100\n - 2s - loss: 146.7385 - val_loss: 232.7796\nEpoch 56/100\n - 1s - loss: 146.0960 - val_loss: 233.2610\nEpoch 57/100\n - 1s - loss: 145.3550 - val_loss: 233.8192\nEpoch 58/100\n - 1s - loss: 144.9394 - val_loss: 234.4528\nEpoch 59/100\n - 1s - loss: 143.8215 - val_loss: 235.2570\nEpoch 60/100\n - 0s - loss: 143.0571 - val_loss: 235.5294\nEpoch 61/100\n - 0s - loss: 142.6047 - val_loss: 235.4534\nEpoch 62/100\n - 0s - loss: 142.0123 - val_loss: 235.8660\nEpoch 63/100\n - 1s - loss: 141.6285 - val_loss: 236.8479\nEpoch 64/100\n - 2s - loss: 141.1007 - val_loss: 237.6024\nEpoch 65/100\n - 9s - loss: 140.2920 - val_loss: 237.8989\nEpoch 66/100\n - 0s - loss: 139.6951 - val_loss: 237.7250\nEpoch 67/100\n - 0s - loss: 139.1006 - val_loss: 237.7114\nEpoch 68/100\n - 1s - loss: 138.5552 - val_loss: 237.8890\nEpoch 69/100\n - 1s - loss: 137.9858 - val_loss: 238.1646\nEpoch 70/100\n - 0s - loss: 137.4262 - val_loss: 238.3354\nEpoch 71/100\n - 0s - loss: 137.0130 - val_loss: 238.1211\nEpoch 72/100\n - 0s - loss: 136.2596 - val_loss: 238.4703\nEpoch 73/100\n - 0s - loss: 135.9838 - val_loss: 237.5201\nEpoch 74/100\n - 0s - loss: 135.2176 - val_loss: 237.7217\nEpoch 75/100\n - 0s - loss: 134.6543 - val_loss: 237.1580\nEpoch 76/100\n - 0s - loss: 133.8200 - val_loss: 236.8829\nEpoch 77/100\n - 0s - loss: 133.3508 - val_loss: 236.9071\nEpoch 78/100\n - 1s - loss: 132.8418 - val_loss: 237.1031\nEpoch 79/100\n - 1s - loss: 132.3046 - val_loss: 236.0365\nEpoch 80/100\n - 1s - loss: 131.6353 - val_loss: 236.2435\nEpoch 81/100\n - 9s - loss: 131.6086 - val_loss: 236.2037\nEpoch 82/100\n - 1s - loss: 130.3770 - val_loss: 236.1265\nEpoch 83/100\n - 1s - loss: 130.1940 - val_loss: 235.5189\nEpoch 84/100\n - 2s - loss: 130.0280 - val_loss: 235.0094\nEpoch 85/100\n - 2s - loss: 128.9060 - val_loss: 234.5625\nEpoch 86/100\n - 2s - loss: 128.1651 - val_loss: 233.9340\nEpoch 87/100\n - 1s - loss: 127.7570 - val_loss: 234.0490\nEpoch 88/100\n - 11s - loss: 127.2838 - val_loss: 233.7870\nEpoch 89/100\n - 1s - loss: 126.6166 - val_loss: 232.5384\nEpoch 90/100\n - 0s - loss: 125.8530 - val_loss: 232.6833\nEpoch 91/100\n - 0s - loss: 125.2053 - val_loss: 232.6832\nEpoch 92/100\n - 0s - loss: 124.3618 - val_loss: 231.7537\nEpoch 93/100\n - 0s - loss: 124.1147 - val_loss: 231.7638\nEpoch 94/100\n - 1s - loss: 123.2945 - val_loss: 230.5714\nEpoch 95/100\n - 2s - loss: 123.0497 - val_loss: 229.3298\nEpoch 96/100\n - 9s - loss: 122.3805 - val_loss: 230.2152\nEpoch 97/100\n - 2s - loss: 121.7329 - val_loss: 228.9299\nEpoch 98/100\n - 1s - loss: 121.4200 - val_loss: 227.1066\nEpoch 99/100\n - 2s - loss: 120.2782 - val_loss: 226.2315\nEpoch 100/100\n - 1s - loss: 119.2520 - val_loss: 225.6720\n",
                    "name": "stdout"
                },
                {
                    "output_type": "execute_result",
                    "execution_count": 22,
                    "data": {
                        "text/plain": "<keras.callbacks.History at 0x7f89d96b2b70>"
                    },
                    "metadata": {}
                }
            ]
        },
        {
            "metadata": {},
            "cell_type": "code",
            "source": "",
            "execution_count": null,
            "outputs": []
        }
    ],
    "metadata": {
        "kernelspec": {
            "name": "python3",
            "display_name": "Python 3.6",
            "language": "python"
        },
        "language_info": {
            "name": "python",
            "version": "3.6.9",
            "mimetype": "text/x-python",
            "codemirror_mode": {
                "name": "ipython",
                "version": 3
            },
            "pygments_lexer": "ipython3",
            "nbconvert_exporter": "python",
            "file_extension": ".py"
        }
    },
    "nbformat": 4,
    "nbformat_minor": 1
}